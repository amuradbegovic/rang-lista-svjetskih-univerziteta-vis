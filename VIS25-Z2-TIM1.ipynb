{
  "cells": [
    {
      "cell_type": "markdown",
      "metadata": {
        "colab_type": "text",
        "id": "view-in-github"
      },
      "source": [
        "<a href=\"https://colab.research.google.com/github/amuradbegovic/rang-lista-svjetskih-univerziteta-vis/blob/main/VIS25-Z2-TIM1.ipynb\" target=\"_parent\"><img src=\"https://colab.research.google.com/assets/colab-badge.svg\" alt=\"Open In Colab\"/></a>"
      ]
    },
    {
      "cell_type": "markdown",
      "metadata": {},
      "source": [
        "# Zadaća 2 - Statistička analiza svjetskih univerziteta\n",
        "\n",
        "Tim 1: **Adnan Muradbegović, Aid Mustafić, Tarik Redžić, Zlatan Ljutika**\n",
        "\n",
        "---\n",
        "U ovom projektu, baviti ćemo se statističkom analizom _[Times Higher Education](https://www.timeshighereducation.com)_ rang liste svjetskih univerziteta za 2024. godinu.\n",
        "\n",
        "\n",
        "Izvor podataka: <br>\n",
        "**[Dosad, D. (2024), Times World University Rankings 2024](https://www.kaggle.com/datasets/ddosad/timesworlduniversityrankings2024)**\n",
        "\n"
      ]
    },
    {
      "cell_type": "code",
      "execution_count": null,
      "metadata": {},
      "outputs": [],
      "source": [
        "# import potrebnih python biblioteka\n",
        "import pandas as pd                   ## Za manipulisanje golih podataka, (CSV, DataFrame,...)\n",
        "import matplotlib.pyplot as plt       ## Za vizualizaciju podataka\n",
        "import seaborn as sns                 ## Za vizualizaciju podat\n",
        "import numpy as np                    ## Za izvršavanje matematičkih operacija nad podacima\n",
        "from numpy import cov\n",
        "import statistics\n",
        "\n",
        "df = pd.read_csv(\"TIMES_WorldUniversityRankings_2024.csv\")\n"
      ]
    },
    {
      "cell_type": "markdown",
      "metadata": {},
      "source": [
        "### 1. Deskriptivna statistika i vizualizacija distribucija varijabli\n",
        "\n",
        "Član tima: **Tarik Redžić**\n",
        "\n",
        "---"
      ]
    },
    {
      "cell_type": "markdown",
      "metadata": {},
      "source": [
        "### 3. Chi-\n",
        "\n",
        "Član tima: **Tarik Redžić**\n",
        "\n",
        "---"
      ]
    },
    {
      "cell_type": "markdown",
      "metadata": {},
      "source": [
        "### <p>2. <a href=\"https://en.wikipedia.org/wiki/Probability_distribution_fitting\" style=\"color:inherit\">Prilagođavanje distribucija vjerovatnoće podataka</a> <br> _(eng. Probability distribution fitting)_</p>\n",
        "\n",
        "Član tima: **Aid Mustafić**\n",
        "\n",
        "---"
      ]
    },
    {
      "cell_type": "markdown",
      "metadata": {},
      "source": [
        "\n"
      ]
    },
    {
      "cell_type": "markdown",
      "metadata": {},
      "source": [
        "### 1. Deskriptivna statistika i vizualizacija distribucija varijabli\n",
        "\n",
        "Član tima: **Tarik Redžić**\n",
        "\n",
        "---"
      ]
    },
    {
      "cell_type": "markdown",
      "metadata": {},
      "source": [
        "### 1. Deskriptivna statistika i vizualizacija distribucija varijabli\n",
        "\n",
        "Član tima: **Tarik Redžić**\n",
        "\n",
        "---"
      ]
    }
  ],
  "metadata": {
    "kernelspec": {
      "display_name": "Python 3",
      "language": "python",
      "name": "python3"
    },
    "language_info": {
      "codemirror_mode": {
        "name": "ipython",
        "version": 3
      },
      "file_extension": ".py",
      "mimetype": "text/x-python",
      "name": "python",
      "nbconvert_exporter": "python",
      "pygments_lexer": "ipython3",
      "version": "3.11.0"
    }
  },
  "nbformat": 4,
  "nbformat_minor": 2
}
