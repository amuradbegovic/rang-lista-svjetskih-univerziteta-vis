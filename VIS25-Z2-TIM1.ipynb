{
  "cells": [
    {
      "cell_type": "markdown",
      "metadata": {
        "colab_type": "text",
        "id": "view-in-github"
      },
      "source": [
        "<a href=\"https://colab.research.google.com/github/amuradbegovic/rang-lista-svjetskih-univerziteta-vis/blob/main/VIS25-Z2-TIM1.ipynb\" target=\"_parent\"><img src=\"https://colab.research.google.com/assets/colab-badge.svg\" alt=\"Open In Colab\"/></a>"
      ]
    },
    {
      "cell_type": "markdown",
      "metadata": {},
      "source": [
        "# Zadaća 2 - Statistička analiza svjetskih univerziteta\n",
        "\n",
        "Tim 1: **Adnan Muradbegović, Aid Mustafić, Tarik Redžić, Zlatan Ljutika**\n",
        "\n",
        "---\n",
        "\n",
        "Teško je pronaći opću mjeru kvalitete za visokoobrazovne institucije, s tim da se većina univerziteta širom svijeta bavi mnogim različitim oblastima, kao što su nastava, istraživanje i razmjena znanja. \n",
        "Ipak, odlučiti se za način predviđanja ukupne kvalitete institucije bilo bi poželjno za one koji žele donijeti informisanu odluku o tome da li da se angažuju s određenim univerzitetom, bilo kao student, istraživač ili partner iz industrije.\n",
        "\n",
        "U ovom projektu, izvršavamo statističku analizu _[Times Higher Education](https://www.timeshighereducation.com)_ rang liste svjetskih univerziteta za 2024. godinu.\n",
        "\n",
        "Izvor podataka: <br>\n",
        "**[Dosad, D. (2024), Times World University Rankings 2024](https://www.kaggle.com/datasets/ddosad/timesworlduniversityrankings2024)**\n",
        "\n"
      ]
    },
    {
      "cell_type": "code",
      "execution_count": null,
      "metadata": {},
      "outputs": [],
      "source": [
        "# Učitavanje nužnih biblioteka i inicijalizacija seta podataka za rad\n",
        "import pandas as pd                   ## Za manipulisanje golih podataka, (CSV, DataFrame,...)\n",
        "import matplotlib.pyplot as plt       ## Za vizualizaciju podataka\n",
        "import seaborn as sns                 ## Za vizualizaciju podat\n",
        "import numpy as np                    ## Za izvršavanje matematičkih operacija nad podacima\n",
        "from numpy import cov\n",
        "import statistics\n",
        "\n",
        "df = pd.read_csv(\"TIMES_WorldUniversityRankings_2024.csv\")\n"
      ]
    },
    {
      "cell_type": "markdown",
      "metadata": {},
      "source": [
        "### Uvod u rad i osnovni podaci\n"
      ]
    },
    {
      "cell_type": "markdown",
      "metadata": {},
      "source": [
        "### 1. Deskriptivna statistika i vizualizacija distribucija podataka\n",
        "\n",
        "Član tima: **Tarik Redžić**\n",
        "\n",
        "---"
      ]
    },
    {
      "cell_type": "markdown",
      "metadata": {},
      "source": [
        "The Times Higher Education World University Rankings 2024 include 1,907 universities across 108 countries and regions.\n",
        "\n",
        "The table is based on our new WUR 3.0 methodology, which includes 18 carefully calibrated performance indicators that measure an institution’s performance across five areas: teaching, research environment, research quality, industry, and international outlook.\n",
        "\n",
        "Jedna zanimljivost, koju ćemo posebno razmatrati kroz ovaj projekt je da je ovo prvo pojavljivanje Univerziteta u Sarajevu, te tako i prvo pojavljavanje jedne visokoobrazovne institucije iz Bosne i Hercegvine na ovoj rang listi."
      ]
    },
    {
      "cell_type": "markdown",
      "metadata": {},
      "source": [
        "### <p>2. <a href=\"https://en.wikipedia.org/wiki/Probability_distribution_fitting\" style=\"color:inherit\">Prilagođavanje distribucija vjerovatnoće podataka</a> <br> _(eng. Probability distribution fitting)_</p>\n",
        "\n",
        "Član tima: **Aid Mustafić**\n",
        "\n",
        "---"
      ]
    },
    {
      "cell_type": "markdown",
      "metadata": {},
      "source": [
        "\n"
      ]
    },
    {
      "cell_type": "markdown",
      "metadata": {},
      "source": [
        "### 3. Provjera prilagođenih distribucija - _[Chi-kvadratni goodness-of-fit test](https://www.geo.fu-berlin.de/en/v/soga-py/Basics-of-statistics/Hypothesis-Tests/Chi-Square-Tests/Chi-Square-Goodness-of-Fit-Test/index.html)_\n",
        "Član tima: **Adnan Muradbegović**\n",
        "\n",
        "---"
      ]
    },
    {
      "cell_type": "markdown",
      "metadata": {},
      "source": []
    },
    {
      "cell_type": "markdown",
      "metadata": {},
      "source": [
        "### 4. Provjera statističkih normalnosti - _[Kolmogorov–Smirnov, Shapiro–Wilk i QQ-plot](https://en.wikipedia.org/wiki/Normality_test)_\n",
        "\n",
        "\n",
        "Član tima: **Adnan Muradbegović**\n",
        "\n",
        "---"
      ]
    },
    {
      "cell_type": "markdown",
      "metadata": {},
      "source": []
    },
    {
      "cell_type": "markdown",
      "metadata": {},
      "source": [
        "### 5. Estimacija intervala pouzdanosti _(eng. confidence intervals)_\n",
        "\n",
        "\n",
        "Član tima: **Zlatan Ljutika**\n",
        "\n",
        "---"
      ]
    },
    {
      "cell_type": "markdown",
      "metadata": {},
      "source": []
    },
    {
      "cell_type": "markdown",
      "metadata": {},
      "source": [
        "### 6. Estimacija pouzdanosti proporcije _(eng. proportion confidence intervals)_\n",
        "\n",
        "\n",
        "Član tima: **Tarik Redžić**\n",
        "\n",
        "---"
      ]
    },
    {
      "cell_type": "markdown",
      "metadata": {},
      "source": []
    },
    {
      "cell_type": "markdown",
      "metadata": {},
      "source": [
        "## **Statistička inferencija seta podataka**\n",
        "\n",
        "Da bi na osnovu do sada posmatranog seta podataka uspjeli istaknuti konkretne i korisne zaključke, u ovom poglavlju ćemo primjeniti metodu statističkog inferenciranja, testiranje statističkih hipoteza (eng. statistical hypothesis testing).\n",
        "\n",
        "...\n",
        "\n",
        "**Hipoteza H0:** Ideja postojanja grada Stolac je CIA propaganda. (Predstavlja: Aid Mustafić)<br>\n",
        "**Hipoteza H1:** Rang liste su fiktivni protu-Dinko Osmanković alat (Predstavlja: Adnan Muradbegović)<br>\n",
        "**Hipoteza H2:** Adnan Osmanović (Predstavlja: Općina Bugojno)<br>\n",
        "**Hipoteza H3:** Bottom Text (Predstavlja: Zlaja Ljutika)<br>"
      ]
    },
    {
      "cell_type": "markdown",
      "metadata": {},
      "source": [
        "### 2.1. **Hipoteza:** Ideja postojanja grada Stolac je CIA propaganda\n",
        "\n",
        "Član tima: **Aid Mustafić**\n",
        "\n",
        "---"
      ]
    },
    {
      "cell_type": "markdown",
      "metadata": {},
      "source": [
        "### 2.2. **Hipoteza:** Ideja postojanja grada Stolac je CIA propaganda\n",
        "\n",
        "Član tima: **Aid Mustafić**\n",
        "\n",
        "---"
      ]
    },
    {
      "cell_type": "markdown",
      "metadata": {},
      "source": [
        "### 2.3. **Hipoteza:** Ideja postojanja grada Stolac je CIA propaganda\n",
        "\n",
        "Član tima: **Aid Mustafić**\n",
        "\n",
        "---"
      ]
    },
    {
      "cell_type": "markdown",
      "metadata": {},
      "source": [
        "### 2.4. **Hipoteza:** Ideja postojanja grada Stolac je CIA propaganda\n",
        "\n",
        "Član tima: **Aid Mustafić**\n",
        "\n",
        "---"
      ]
    },
    {
      "cell_type": "markdown",
      "metadata": {},
      "source": [
        "## **Linearni regresivni model seta podataka**\n",
        "\n",
        "Lorem ipsum dolor sit amet, consectetur adipiscing elit. Ut a volutpat nulla. Donec eu ante eget nisl posuere scelerisque. Nulla sed eros purus. In placerat diam vel augue aliquet, sit amet faucibus sem sagittis. Interdum et malesuada fames ac ante ipsum primis in faucibus. Vestibulum id diam magna. Curabitur porta urna ante, et aliquet odio blandit at. Cras viverra tellus id pulvinar rhoncus. Praesent id ullamcorper dolor. Nulla lacinia arcu a massa sollicitudin ullamcorper.\n",
        "\n",
        "predvidjeti overall_score?"
      ]
    }
  ],
  "metadata": {
    "kernelspec": {
      "display_name": "Python 3",
      "language": "python",
      "name": "python3"
    },
    "language_info": {
      "codemirror_mode": {
        "name": "ipython",
        "version": 3
      },
      "file_extension": ".py",
      "mimetype": "text/x-python",
      "name": "python",
      "nbconvert_exporter": "python",
      "pygments_lexer": "ipython3",
      "version": "3.11.0"
    }
  },
  "nbformat": 4,
  "nbformat_minor": 2
}
