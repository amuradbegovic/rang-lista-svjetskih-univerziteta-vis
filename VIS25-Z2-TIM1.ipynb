{
  "cells": [
    {
      "cell_type": "markdown",
      "metadata": {
        "colab_type": "text",
        "id": "view-in-github"
      },
      "source": [
        "<a href=\"https://colab.research.google.com/github/amuradbegovic/rang-lista-svjetskih-univerziteta-vis/blob/main/VIS25-Z2-TIM1.ipynb\" target=\"_parent\"><img src=\"https://colab.research.google.com/assets/colab-badge.svg\" alt=\"Open In Colab\"/></a>"
      ]
    },
    {
      "cell_type": "markdown",
      "metadata": {},
      "source": [
        "# Zadaća 2 - Statistička analiza svjetskih univerziteta\n",
        "\n",
        "Tim 1: **Adnan Muradbegović, Aid Mustafić, Tarik Redžić, Zlatan Ljutika**\n",
        "\n",
        "---\n",
        "\n",
        "Teško je pronaći opću mjeru kvalitete za visokoobrazovne institucije, s tim da se većina univerziteta širom svijeta bavi mnogim različitim oblastima, kao što su nastava, istraživanje i razmjena znanja. \n",
        "Ipak, odlučiti se za način predviđanja ukupne kvalitete institucije bilo bi poželjno za one koji žele donijeti informisanu odluku o tome da li da se angažuju s određenim univerzitetom, bilo kao student, istraživač ili partner iz industrije.\n",
        "\n",
        "U ovom projektu, izvršavamo statističku analizu _[Times Higher Education](https://www.timeshighereducation.com)_ rang liste svjetskih univerziteta za 2024. godinu.\n",
        "\n",
        "Izvor podataka: <br>\n",
        "**[Dosad, D. (2024), Times World University Rankings 2024](https://www.kaggle.com/datasets/ddosad/timesworlduniversityrankings2024)**\n",
        "\n"
      ]
    },
    {
      "cell_type": "code",
      "execution_count": 2,
      "metadata": {},
      "outputs": [],
      "source": [
        "# Učitavanje nužnih biblioteka i inicijalizacija seta podataka za rad\n",
        "# !curl -LJO https://raw.githubusercontent.com/amuradbegovic/rang-lista-svjetskih-univerziteta-vis/main/TIMES_WorldUniversityRankings_2024.csv\n",
        "# Ne do vam Bog ovo uncomment-irat i runat dok nismo završili. (Privatni je repo pa samo OBRIŠE ČITAV CSV I STAVI \"404 NOT FOUND\")\n",
        "\n",
        "import pandas as pd                   ## Za manipulisanje golih podataka, (CSV, DataFrame,...)\n",
        "import matplotlib.pyplot as plt       ## Za vizualizaciju podataka\n",
        "import seaborn as sns                 ## Za vizualizaciju podat\n",
        "import numpy as np                    ## Za izvršavanje matematičkih operacija nad podacima\n",
        "from numpy import cov\n",
        "from IPython.display import HTML    ## Za kreiranje tabela i HTML manipulaciju\n",
        "import statistics\n",
        "\n",
        "df = pd.read_csv(\"TIMES_WorldUniversityRankings_2024.csv\")\n",
        "\n",
        "# Nužni koraci, postoje greške u notaciji polja i tipovima podataka u datasetu.\n",
        "# Procent intl. studenta je sada 0.X, umjesto X%\n",
        "# Proporcija ženskih-muških studenata je sada 0.X, umjesto 'X : Y'\n",
        "# N/A podaci su zapisani kao proracunati mean\n",
        "df['stats_number_students'] = df['stats_number_students'].str.replace(',', '').astype(float) \n",
        "\n",
        "mask = df['stats_pc_intl_students'].str.match(r'^\\d+(\\.\\d+)?%$')\n",
        "df.loc[~mask, 'stats_pc_intl_students'] = '0%'\n",
        "df['stats_pc_intl_students'] = df['stats_pc_intl_students'].str.rstrip('%')\n",
        "df['stats_pc_intl_students'] = (df['stats_pc_intl_students'].astype(float) / 100)\n",
        "\n",
        "df['stats_female_male_ratio'] = df['stats_female_male_ratio'].astype(str).str.replace(' ','',regex=False)\n",
        "mask = df['stats_female_male_ratio'].str.match(r'^\\d+\\s*:\\s*\\d+$')\n",
        "female_ratio = df.loc[mask, 'stats_female_male_ratio'].str.replace(' ', '', regex=False).str.split(':')\n",
        "female_ratio = female_ratio.apply(lambda x: int(x[0]) / (int(x[0]) + int(x[1])))\n",
        "mean_f_ratio = female_ratio.mean()\n",
        "\n",
        "df['stats_female_male_ratio'] = None\n",
        "df.loc[mask, 'stats_female_male_ratio'] = female_ratio\n",
        "df['stats_female_male_ratio'] = df['stats_female_male_ratio'].astype(float).fillna(mean_f_ratio)\n",
        "df['female_ratio_imputed'] = ~mask # Ubačen flag da li je ubačena vrijednost ili ne. (Bool: da li je ubačena?)"
      ]
    },
    {
      "cell_type": "markdown",
      "metadata": {},
      "source": [
        "### 1. Deskriptivna statistika i vizualizacija distribucija podataka\n",
        "\n",
        "Član tima: **Tarik Redžić**\n",
        "\n",
        "---"
      ]
    },
    {
      "cell_type": "markdown",
      "metadata": {},
      "source": [
        " _THE rang lista svjetskih univerziteta 2024. godine_ se sastoji od ukupno **1904 univerziteta** iz 108 zemalja i regija.  \n",
        " U ovom poglavlju nastojimo prvenstveno opisati i upoznati se metodologiju rangiranja, način obrade podataka u ovom setu te korištenim parametrima.\n",
        " _U nastavku, važna je napomena da opis seta podataka i rang liste analogno važe jedno za drugo._\n",
        "\n",
        "_Jedna zanimljivost, koju ćemo posebno razmatrati kroz ovaj projekt je da je ovo prvo pojavljivanje Univerziteta u Sarajevu, te tako i **prvo pojavljavanje jedne visokoobrazovne institucije iz Bosne i Hercegvine na ovoj rang listi**, što je čak i istaknuto na web-stranici rang liste._ \n",
        "> ,,Four countries enter the ranking for the first time – all of them in Europe. The addition of Kosovo, Bosnia and Herzegovina, North Macedonia and Armenia...\"\n",
        "\n"
      ]
    },
    {
      "cell_type": "markdown",
      "metadata": {},
      "source": [
        "##### **Metodologija i parametri**  \n",
        "> ,,The table is based on our new WUR 3.0 methodology, which includes 18 carefully calibrated performance indicators that measure an institution’s performance across five areas: teaching, research environment, research quality, industry, and international outlook.\"  \n",
        "  \\- Times Higher Education\n",
        "  \n"
      ]
    },
    {
      "cell_type": "markdown",
      "metadata": {},
      "source": [
        "  _Set podataka se sastoji od:_  \n",
        "* **Broj redova (univerziteta): _2673_**\n",
        "    \n",
        "    Pored 1904 rangiranih univerziteta, ***postoje 769 sa 'Reporter' statusom,*** tj. univerziteti koji su proslijedili podatke ali nisu zadovoljavali kriterij za rank, ali su prihvatili da budu prikazani kao \"reporteri\" u konačnoj tabeli.  \n",
        "    *(Primjer, na jednoj rang listi, sa Reporter statusom se nalazi \"University of Mostar\", da li to bio UNMO/Džemal Bijedić ili SUM/Sveučilište u Mostaru, nije poznato, te se ne broji kao visokoobrazovna ustanova uvrštena u ovu rang listu)*\n",
        "\n",
        "* **Broj kolona: _29, od kojih je 17 parametara pokazatelja učinka iz metodologije._**\n",
        "\n",
        "   ***Parametri su grupisani na sljedeći način:***  \n",
        "     * Teaching _(bos. 'Nastava', u datasetu: **'scores_teaching'**)_\n",
        "        * Teaching Reputation _(bos. **'Reputacija nastave'**)_\n",
        "        * Student Staff Ratio _(bos. **Proporcija Student-Osoblje,** u datasetu: **'stats_student_staff_ratio'**)_\n",
        "        * Doctorate Bachelor Ratio _(bos. **Proporcija Student-Osoblje,** u datasetu: **'stats_student_staff_ratio'**)_\n",
        "        * Doctorate Staff Ratio _(bos. **Proporcija Student-Osoblje,** u datasetu: **'stats_student_staff_ratio'**)_\n",
        "        * Institutional Income _(bos. **Proporcija Student-Osoblje,** u datasetu: **'stats_student_staff_ratio'**)_\n",
        "    * Research Environment _(bos. 'Istraživačko okruženje')_\n",
        "        * Research Reputation _(bos. '**Reputacija istraživanja'**)_\n",
        "        * Research Income _(bos. **Proporcija Student-Osoblje,** u datasetu: **'stats_student_staff_ratio'**)_\n",
        "        * Research Productivity _(bos. **Proporcija Student-Osoblje,** u datasetu: **'stats_student_staff_ratio'**)_\n",
        "        * Research Quality _(bos. **Proporcija Student-Osoblje,** u datasetu: **'stats_student_staff_ratio'**)_\n",
        "        * Citation Impact _(bos. **Proporcija Student-Osoblje,** u datasetu: **'stats_student_staff_ratio'**)_\n",
        "        * Research Strength _(bos. **Proporcija Student-Osoblje,** u datasetu: **'stats_student_staff_ratio'**)_\n",
        "        * Research Excellence _(bos. **Proporcija Student-Osoblje,** u datasetu: **'stats_student_staff_ratio'**)_\n",
        "        * Research Influence _(bos. **Proporcija Student-Osoblje,** u datasetu: **'stats_student_staff_ratio'**)_\n",
        "    * International outlook _(bos. **'Međunarodni izgled'**, u datasetu: **'scores_international_outlook'**)_\n",
        "        * International Students _(bos. **Međunarodni studenti,** u datasetu: **'stats_student_staff_ratio'**)_\n",
        "        * International Staff _(bos. **Međunarodno osoblje** u datasetu: **'stats_student_staff_ratio'**)_\n",
        "        * International Co-authorship _(bos. **Međunarodno koautorstvo** u datasetu: **'stats_student_staff_ratio'**)_\n",
        "    * Industry\n",
        "        * Industry Income _(bos. **Proporcija Student-Osoblje,** u datasetu: **'stats_student_staff_ratio'**)_\n",
        "        * Patents _(bos. **Patenti** u datasetu: **'stats_student_staff_ratio'**)_\n",
        "\n",
        "\n",
        "_**Napomena:** Radi statističke analize, ovo nije potpuni spisak parametara, već onih obrađenih i prevedenih u ovaj set podataka kao parametri. Više informacija o WUR metodologiji možete pronaći [ovdje.](https://www.timeshighereducation.com/sites/default/files/the_2024_world_university_rankings_methodology.pdf)_\n"
      ]
    },
    {
      "cell_type": "code",
      "execution_count": null,
      "metadata": {},
      "outputs": [],
      "source": [
        "# TODO: @TarikRedzic, fino ispuni ovo gore. Ostavio sam ti template. Što nema u datasetu, obriši, zato ti je ova posljednja rečenica."
      ]
    },
    {
      "cell_type": "code",
      "execution_count": null,
      "metadata": {},
      "outputs": [
        {
          "data": {
            "text/html": [
              "<div>\n",
              "<style scoped>\n",
              "    .dataframe tbody tr th:only-of-type {\n",
              "        vertical-align: middle;\n",
              "    }\n",
              "\n",
              "    .dataframe tbody tr th {\n",
              "        vertical-align: top;\n",
              "    }\n",
              "\n",
              "    .dataframe thead th {\n",
              "        text-align: right;\n",
              "    }\n",
              "</style>\n",
              "<table border=\"1\" class=\"dataframe\">\n",
              "  <thead>\n",
              "    <tr style=\"text-align: right;\">\n",
              "      <th></th>\n",
              "      <th>rank</th>\n",
              "      <th>name</th>\n",
              "      <th>scores_overall</th>\n",
              "      <th>scores_overall_rank</th>\n",
              "      <th>scores_teaching</th>\n",
              "      <th>scores_teaching_rank</th>\n",
              "      <th>scores_research</th>\n",
              "      <th>scores_research_rank</th>\n",
              "      <th>scores_citations</th>\n",
              "      <th>scores_citations_rank</th>\n",
              "      <th>...</th>\n",
              "      <th>stats_number_students</th>\n",
              "      <th>stats_student_staff_ratio</th>\n",
              "      <th>stats_pc_intl_students</th>\n",
              "      <th>stats_female_male_ratio</th>\n",
              "      <th>aliases</th>\n",
              "      <th>subjects_offered</th>\n",
              "      <th>closed</th>\n",
              "      <th>unaccredited</th>\n",
              "      <th>disabled</th>\n",
              "      <th>website_url</th>\n",
              "    </tr>\n",
              "  </thead>\n",
              "  <tbody>\n",
              "    <tr>\n",
              "      <th>1828</th>\n",
              "      <td>1501+</td>\n",
              "      <td>University of Sarajevo</td>\n",
              "      <td>9.7–22.7</td>\n",
              "      <td>18290</td>\n",
              "      <td>16.4</td>\n",
              "      <td>1673</td>\n",
              "      <td>10.8</td>\n",
              "      <td>1552</td>\n",
              "      <td>18.6</td>\n",
              "      <td>1707</td>\n",
              "      <td>...</td>\n",
              "      <td>25,468</td>\n",
              "      <td>15.6</td>\n",
              "      <td>0%</td>\n",
              "      <td>64 : 36</td>\n",
              "      <td>University of Sarajevo</td>\n",
              "      <td>Languages, Literature &amp; Linguistics,Agricultur...</td>\n",
              "      <td>False</td>\n",
              "      <td>False</td>\n",
              "      <td>False</td>\n",
              "      <td>NaN</td>\n",
              "    </tr>\n",
              "  </tbody>\n",
              "</table>\n",
              "<p>1 rows × 29 columns</p>\n",
              "</div>"
            ],
            "text/plain": [
              "       rank                    name scores_overall  scores_overall_rank  \\\n",
              "1828  1501+  University of Sarajevo       9.7–22.7                18290   \n",
              "\n",
              "      scores_teaching  scores_teaching_rank  scores_research  \\\n",
              "1828             16.4                  1673             10.8   \n",
              "\n",
              "      scores_research_rank  scores_citations  scores_citations_rank  ...  \\\n",
              "1828                  1552              18.6                   1707  ...   \n",
              "\n",
              "      stats_number_students  stats_student_staff_ratio  \\\n",
              "1828                 25,468                       15.6   \n",
              "\n",
              "      stats_pc_intl_students  stats_female_male_ratio                 aliases  \\\n",
              "1828                      0%                  64 : 36  University of Sarajevo   \n",
              "\n",
              "                                       subjects_offered closed  unaccredited  \\\n",
              "1828  Languages, Literature & Linguistics,Agricultur...  False         False   \n",
              "\n",
              "     disabled website_url  \n",
              "1828    False         NaN  \n",
              "\n",
              "[1 rows x 29 columns]"
            ]
          },
          "metadata": {},
          "output_type": "display_data"
        }
      ],
      "source": [
        "#@title #### **Tabela 1: Primjer zapisa u setu podataka\"** { display-mode: \"form\" }¸\n",
        "display(df[df['scores_overall_rank'] == 18290])"
      ]
    },
    {
      "cell_type": "code",
      "execution_count": 8,
      "metadata": {},
      "outputs": [
        {
          "name": "stdout",
          "output_type": "stream",
          "text": [
            "Tabela 2: Osnovne mjere varijacije i centralne težnje za odabrane numeričke parametre\n"
          ]
        },
        {
          "data": {
            "text/html": [
              "<div>\n",
              "<style scoped>\n",
              "    .dataframe tbody tr th:only-of-type {\n",
              "        vertical-align: middle;\n",
              "    }\n",
              "\n",
              "    .dataframe tbody tr th {\n",
              "        vertical-align: top;\n",
              "    }\n",
              "\n",
              "    .dataframe thead th {\n",
              "        text-align: right;\n",
              "    }\n",
              "</style>\n",
              "<table border=\"1\" class=\"dataframe\">\n",
              "  <thead>\n",
              "    <tr style=\"text-align: right;\">\n",
              "      <th></th>\n",
              "      <th>scores_overall_rank</th>\n",
              "      <th>scores_teaching</th>\n",
              "      <th>scores_research</th>\n",
              "      <th>scores_citations</th>\n",
              "      <th>scores_international_outlook</th>\n",
              "      <th>stats_number_students</th>\n",
              "      <th>scores_industry_income</th>\n",
              "      <th>stats_pc_intl_students</th>\n",
              "      <th>stats_female_male_ratio</th>\n",
              "    </tr>\n",
              "  </thead>\n",
              "  <tbody>\n",
              "    <tr>\n",
              "      <th>count</th>\n",
              "      <td>2673.00</td>\n",
              "      <td>1904.00</td>\n",
              "      <td>1904.00</td>\n",
              "      <td>1904.00</td>\n",
              "      <td>1904.00</td>\n",
              "      <td>2673.00</td>\n",
              "      <td>1904.00</td>\n",
              "      <td>2673.00</td>\n",
              "      <td>2673.00</td>\n",
              "    </tr>\n",
              "    <tr>\n",
              "      <th>mean</th>\n",
              "      <td>294587.23</td>\n",
              "      <td>29.06</td>\n",
              "      <td>23.42</td>\n",
              "      <td>52.19</td>\n",
              "      <td>49.91</td>\n",
              "      <td>18357.77</td>\n",
              "      <td>47.06</td>\n",
              "      <td>0.10</td>\n",
              "      <td>0.51</td>\n",
              "    </tr>\n",
              "    <tr>\n",
              "      <th>std</th>\n",
              "      <td>448657.02</td>\n",
              "      <td>13.97</td>\n",
              "      <td>16.70</td>\n",
              "      <td>25.07</td>\n",
              "      <td>21.83</td>\n",
              "      <td>23325.31</td>\n",
              "      <td>26.15</td>\n",
              "      <td>0.13</td>\n",
              "      <td>0.14</td>\n",
              "    </tr>\n",
              "    <tr>\n",
              "      <th>min</th>\n",
              "      <td>10.00</td>\n",
              "      <td>9.40</td>\n",
              "      <td>4.60</td>\n",
              "      <td>3.40</td>\n",
              "      <td>16.10</td>\n",
              "      <td>25.00</td>\n",
              "      <td>15.60</td>\n",
              "      <td>0.00</td>\n",
              "      <td>0.00</td>\n",
              "    </tr>\n",
              "    <tr>\n",
              "      <th>25%</th>\n",
              "      <td>6690.00</td>\n",
              "      <td>19.40</td>\n",
              "      <td>11.80</td>\n",
              "      <td>30.40</td>\n",
              "      <td>31.98</td>\n",
              "      <td>6175.00</td>\n",
              "      <td>22.27</td>\n",
              "      <td>0.01</td>\n",
              "      <td>0.44</td>\n",
              "    </tr>\n",
              "    <tr>\n",
              "      <th>50%</th>\n",
              "      <td>13370.00</td>\n",
              "      <td>25.80</td>\n",
              "      <td>17.25</td>\n",
              "      <td>52.40</td>\n",
              "      <td>45.30</td>\n",
              "      <td>12771.00</td>\n",
              "      <td>41.05</td>\n",
              "      <td>0.05</td>\n",
              "      <td>0.53</td>\n",
              "    </tr>\n",
              "    <tr>\n",
              "      <th>75%</th>\n",
              "      <td>1000101.00</td>\n",
              "      <td>34.50</td>\n",
              "      <td>29.90</td>\n",
              "      <td>73.22</td>\n",
              "      <td>65.40</td>\n",
              "      <td>23951.00</td>\n",
              "      <td>68.20</td>\n",
              "      <td>0.13</td>\n",
              "      <td>0.59</td>\n",
              "    </tr>\n",
              "    <tr>\n",
              "      <th>max</th>\n",
              "      <td>1000769.00</td>\n",
              "      <td>99.00</td>\n",
              "      <td>100.00</td>\n",
              "      <td>99.70</td>\n",
              "      <td>98.80</td>\n",
              "      <td>482541.00</td>\n",
              "      <td>100.00</td>\n",
              "      <td>1.00</td>\n",
              "      <td>1.00</td>\n",
              "    </tr>\n",
              "  </tbody>\n",
              "</table>\n",
              "</div>"
            ],
            "text/plain": [
              "       scores_overall_rank  scores_teaching  scores_research  \\\n",
              "count              2673.00          1904.00          1904.00   \n",
              "mean             294587.23            29.06            23.42   \n",
              "std              448657.02            13.97            16.70   \n",
              "min                  10.00             9.40             4.60   \n",
              "25%                6690.00            19.40            11.80   \n",
              "50%               13370.00            25.80            17.25   \n",
              "75%             1000101.00            34.50            29.90   \n",
              "max             1000769.00            99.00           100.00   \n",
              "\n",
              "       scores_citations  scores_international_outlook  stats_number_students  \\\n",
              "count           1904.00                       1904.00                2673.00   \n",
              "mean              52.19                         49.91               18357.77   \n",
              "std               25.07                         21.83               23325.31   \n",
              "min                3.40                         16.10                  25.00   \n",
              "25%               30.40                         31.98                6175.00   \n",
              "50%               52.40                         45.30               12771.00   \n",
              "75%               73.22                         65.40               23951.00   \n",
              "max               99.70                         98.80              482541.00   \n",
              "\n",
              "       scores_industry_income  stats_pc_intl_students  stats_female_male_ratio  \n",
              "count                 1904.00                 2673.00                  2673.00  \n",
              "mean                    47.06                    0.10                     0.51  \n",
              "std                     26.15                    0.13                     0.14  \n",
              "min                     15.60                    0.00                     0.00  \n",
              "25%                     22.27                    0.01                     0.44  \n",
              "50%                     41.05                    0.05                     0.53  \n",
              "75%                     68.20                    0.13                     0.59  \n",
              "max                    100.00                    1.00                     1.00  "
            ]
          },
          "execution_count": 8,
          "metadata": {},
          "output_type": "execute_result"
        }
      ],
      "source": [
        "df_display = df[['scores_overall_rank','scores_teaching','scores_research','scores_citations','scores_international_outlook','stats_number_students','scores_industry_income','stats_pc_intl_students','stats_female_male_ratio']]\n",
        "pd.set_option('display.float_format', '{:.2f}'.format)\n",
        "print(\"Tabela 2: Osnovne mjere varijacije i centralne težnje za odabrane numeričke parametre\") # TODO: @TarikRedzic, ovo ljepše ispiši\n",
        "df_display.describe()\n"
      ]
    },
    {
      "cell_type": "code",
      "execution_count": null,
      "metadata": {},
      "outputs": [],
      "source": [
        "# TODO: @TarikRedzic, izvuci neki zakljucak ako ima ili navedi koje sam promjene uradio na vrhu notebook-a (tipa ono sa meanom)"
      ]
    },
    {
      "cell_type": "code",
      "execution_count": null,
      "metadata": {},
      "outputs": [
        {
          "data": {
            "image/png": "[encoded data removed]",
            "text/plain": [
              "<Figure size 1200x1000 with 5 Axes>"
            ]
          },
          "metadata": {},
          "output_type": "display_data"
        }
      ],
      "source": [
        "major_scores = [\n",
        "    'scores_teaching',\n",
        "    'scores_research',\n",
        "    'scores_citations',\n",
        "    'scores_industry_income',\n",
        "    'scores_international_outlook'\n",
        "]\n",
        "\n",
        "for col in major_scores:\n",
        "    df[col] = df[col].astype(str).str.replace(',', '', regex=False).str.strip()\n",
        "    df[col] = pd.to_numeric(df[col], errors='coerce')\n",
        "    df[f'{col}_imputed'] = df[col].isna()\n",
        "    #mean_val = df[col].mean()\n",
        "    #df[col] = df[col].fillna(mean_val)\n",
        "    df[col] = df[col].fillna(0) # zapravo suvišno, isti rezultat bude i bez\n",
        "\n",
        "imputed_counts = {}\n",
        "actual_counts = {}\n",
        "\n",
        "for col in major_scores:\n",
        "    imputed_col = f'{col}_imputed'\n",
        "    imputed_counts[col] = df[imputed_col].sum()\n",
        "    actual_counts[col] = len(df) - df[imputed_col].sum()\n",
        "\n",
        "\n",
        "fig, axes = plt.subplots(nrows=3, ncols=2, figsize=(12, 10))\n",
        "axes = axes.flatten()\n",
        "\n",
        "for i, col in enumerate(major_scores):\n",
        "    axes[i].hist(df[col], bins=30, color='steelblue', edgecolor='black', alpha=0.7)\n",
        "    axes[i].set_title(f'{col.replace(\"scores_\", \"\").replace(\"_\", \" \").title()}')\n",
        "    axes[i].set_xlabel('Score')\n",
        "    axes[i].set_ylabel('Number of Universities')\n",
        "\n",
        "if len(major_scores) < len(axes):\n",
        "    fig.delaxes(axes[-1])\n",
        "plt.tight_layout()\n",
        "plt.show()"
      ]
    },
    {
      "cell_type": "markdown",
      "metadata": {},
      "source": []
    },
    {
      "cell_type": "markdown",
      "metadata": {},
      "source": [
        "### <p>2. <a href=\"https://en.wikipedia.org/wiki/Probability_distribution_fitting\" style=\"color:inherit\">Prilagođavanje distribucija vjerovatnoće podataka</a> <br> _(eng. Probability distribution fitting)_</p>\n",
        "\n",
        "Član tima: **Aid Mustafić**\n",
        "\n",
        "---"
      ]
    },
    {
      "cell_type": "markdown",
      "metadata": {},
      "source": [
        "\n"
      ]
    },
    {
      "cell_type": "markdown",
      "metadata": {},
      "source": [
        "### 3. Provjera prilagođenih distribucija - _[Chi-kvadratni goodness-of-fit test](https://www.geo.fu-berlin.de/en/v/soga-py/Basics-of-statistics/Hypothesis-Tests/Chi-Square-Tests/Chi-Square-Goodness-of-Fit-Test/index.html)_\n",
        "Član tima: **Adnan Muradbegović**\n",
        "\n",
        "---"
      ]
    },
    {
      "cell_type": "markdown",
      "metadata": {},
      "source": []
    },
    {
      "cell_type": "markdown",
      "metadata": {},
      "source": [
        "### 4. Provjera statističkih normalnosti - _[Kolmogorov–Smirnov, Shapiro–Wilk i QQ-plot](https://en.wikipedia.org/wiki/Normality_test)_\n",
        "\n",
        "\n",
        "Član tima: **Adnan Muradbegović**\n",
        "\n",
        "---"
      ]
    },
    {
      "cell_type": "markdown",
      "metadata": {},
      "source": []
    },
    {
      "cell_type": "markdown",
      "metadata": {},
      "source": [
        "### 5. Estimacija intervala pouzdanosti _(eng. confidence intervals)_\n",
        "\n",
        "\n",
        "Član tima: **Zlatan Ljutika**\n",
        "\n",
        "---"
      ]
    },
    {
      "cell_type": "markdown",
      "metadata": {},
      "source": []
    },
    {
      "cell_type": "markdown",
      "metadata": {},
      "source": [
        "### 6. Estimacija pouzdanosti proporcije _(eng. proportion confidence intervals)_\n",
        "\n",
        "\n",
        "Član tima: **Tarik Redžić**\n",
        "\n",
        "---"
      ]
    },
    {
      "cell_type": "markdown",
      "metadata": {},
      "source": []
    },
    {
      "cell_type": "markdown",
      "metadata": {},
      "source": [
        "## **Statistička inferencija seta podataka**\n",
        "\n",
        "Da bi na osnovu do sada posmatranog seta podataka uspjeli istaknuti konkretne i korisne zaključke, u ovom poglavlju ćemo primjeniti metodu statističkog inferenciranja, testiranje statističkih hipoteza (eng. statistical hypothesis testing).\n",
        "\n",
        "...\n",
        "\n",
        "**Hipoteza H0:** Balkanske članice Evropske Unije prosječno imaju bolje rezultate za istraživačko citiranje u odnosu na Balkanske zemlje koje nisu članice. (Predstavlja: Adnan Muradbegović)<br>\n",
        "**Hipoteza H1:** Univerziteti sa manje studenata po nastavnom osoblju imaju prosječno bolje rezultate za nastavu. (Predstavlja: Tarik Redžić)<br>\n",
        "**Hipoteza H2:** Državni univerziteti na Balkanu imaju prosječno bolje rezultate za nastavu od privatnih. (Predstavlja: Aid Mustafić)<br>\n",
        "**Hipoteza H3:** Privatni univerziteti prosječno imaju bolje rezultate za međunarodni izgled od državnih univerziteta. (Predstavlja: Zlatan Ljutika)<br>"
      ]
    },
    {
      "cell_type": "markdown",
      "metadata": {},
      "source": [
        "### 2.1. **Hipoteza:** Balkanske članice Evropske Unije prosječno imaju veći broj bodova za istraživačko citiranje u odnosu na Balkanske zemlje koje nisu članice.\n",
        "\n",
        "Član tima: **Adnan Muradbegović**\n",
        "\n",
        "---"
      ]
    },
    {
      "cell_type": "markdown",
      "metadata": {},
      "source": [
        "### 2.2. **Hipoteza:** Univerziteti sa manje studenata po nastavnom osoblju imaju više bodova za nastavu.\n",
        "Član tima: **Tarik Redžić**\n",
        "\n",
        "---"
      ]
    },
    {
      "cell_type": "markdown",
      "metadata": {},
      "source": [
        "### 2.3. **Hipoteza:** Državni univerziteti na Balkanu imaju prosječno bolje rezultate za nastavu od privatnih.\n",
        "\n",
        "Član tima: **Aid Mustafić**\n",
        "\n",
        "---"
      ]
    },
    {
      "cell_type": "markdown",
      "metadata": {},
      "source": [
        "### 2.4. **Hipoteza:** Privatni univerziteti prosječno imaju bolje rezultate za međunarodni izgled od državnih univerziteta.\n",
        "\n",
        "Član tima: **Aid Mustafić**\n",
        "\n",
        "---"
      ]
    },
    {
      "cell_type": "markdown",
      "metadata": {},
      "source": [
        "## **Linearni regresivni model seta podataka**\n",
        "\n",
        "Lorem ipsum dolor sit amet, consectetur adipiscing elit. Ut a volutpat nulla. Donec eu ante eget nisl posuere scelerisque. Nulla sed eros purus. In placerat diam vel augue aliquet, sit amet faucibus sem sagittis. Interdum et malesuada fames ac ante ipsum primis in faucibus. Vestibulum id diam magna. Curabitur porta urna ante, et aliquet odio blandit at. Cras viverra tellus id pulvinar rhoncus. Praesent id ullamcorper dolor. Nulla lacinia arcu a massa sollicitudin ullamcorper.\n",
        "\n",
        "predvidjeti overall_score?"
      ]
    },
    {
      "cell_type": "markdown",
      "metadata": {},
      "source": [
        "# Dobri linkovi\n"
      ]
    },
    {
      "cell_type": "markdown",
      "metadata": {},
      "source": [
        "[1]https://www.timeshighereducation.com/world-university-rankings/world-university-rankings-2024-china-creeps-closer-top-10  \n",
        "[Desno pored ranga ima sekcija \"Academic insights\", može mnogo poslužiti]https://www.timeshighereducation.com/world-university-rankings/2024/world-ranking \n",
        "[3]https://www.timeshighereducation.com/sites/default/files/the_2024_world_university_rankings_methodology.pdf\n"
      ]
    }
  ],
  "metadata": {
    "kernelspec": {
      "display_name": "Python 3",
      "language": "python",
      "name": "python3"
    },
    "language_info": {
      "codemirror_mode": {
        "name": "ipython",
        "version": 3
      },
      "file_extension": ".py",
      "mimetype": "text/x-python",
      "name": "python",
      "nbconvert_exporter": "python",
      "pygments_lexer": "ipython3",
      "version": "3.13.3"
    }
  },
  "nbformat": 4,
  "nbformat_minor": 2
}
